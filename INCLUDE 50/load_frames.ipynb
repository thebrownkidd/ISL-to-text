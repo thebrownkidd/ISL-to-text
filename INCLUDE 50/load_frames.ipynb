{
 "cells": [
  {
   "cell_type": "code",
   "execution_count": 3,
   "metadata": {},
   "outputs": [],
   "source": [
    "import mediapipe as mp\n",
    "from mediapipe.tasks import python\n",
    "from mediapipe.tasks.python import vision\n",
    "import os\n",
    "import pandas as pd\n",
    "import numpy\n",
    "import cv2"
   ]
  },
  {
   "cell_type": "code",
   "execution_count": 4,
   "metadata": {},
   "outputs": [],
   "source": [
    "model_path = 'C:/Projects/ISL-to-text/INCLUDE 50/MP_Models/pose_landmarker_heavy.task'\n",
    "BaseOptions = mp.tasks.BaseOptions\n",
    "PoseLandmarker = mp.tasks.vision.PoseLandmarker\n",
    "PoseLandmarkerOptions = mp.tasks.vision.PoseLandmarkerOptions\n",
    "VisionRunningMode = mp.tasks.vision.RunningMode\n",
    "options = PoseLandmarkerOptions(base_options = BaseOptions(model_asset_path = model_path),running_mode=VisionRunningMode.IMAGE)"
   ]
  },
  {
   "cell_type": "code",
   "execution_count": 5,
   "metadata": {},
   "outputs": [],
   "source": [
    "def vid2frames(p):\n",
    "    frames = []\n",
    "    vid = cv2.VideoCapture(p)\n",
    "    suc, img = vid.read()\n",
    "    count = 0\n",
    "    while suc:\n",
    "        frames.append(img)\n",
    "        suc, img = vid.read()\n",
    "        count += 1\n",
    "    return frames, count\n",
    "    "
   ]
  },
  {
   "cell_type": "code",
   "execution_count": 23,
   "metadata": {},
   "outputs": [],
   "source": [
    "dir = \"C:/Projects/ISL Research/INCLUDE50\"\n",
    "out_path = \"C:/Projects/ISL Research\"\n",
    "# Name of dir where includ, name of path for output\n",
    "types = os.listdir(dir)\n",
    "for t in types:\n",
    "    for labels in os.listdir(os.path.join(dir,t)):\n",
    "        for l in labels:\n",
    "            label = l[2:]\n",
    "            for file in os.listdir(os.path.join(dir,t,label)):\n",
    "                # os.mkdir(os.path.join(out_path,label,file+\"frames\"))\n",
    "                frames = []\n",
    "                vid = cv2.VideoCapture(os.path.join(dir,t,label,file))\n",
    "                suc, img = vid.read()\n",
    "                count = 1\n",
    "                while suc:\n",
    "                    mp_image = mp.Image(image_format=mp.ImageFormat.SRGB, data=img)\n",
    "                    with PoseLandmarker.create_from_options(options) as landmarker:\n",
    "                        pose_landmarker_result = landmarker.detect(mp_image)\n",
    "                    print(pose_landmarker_result.x)\n",
    "                    print(\"hello\")\n",
    "                    cv2.imshow('image', img)\n",
    "                    cv2.imwrite(os.path.join(out_path,label,file+\"frames\",str(count)+\".jpeg\"),img)\n",
    "                    frames.append(img)\n",
    "                    suc, img = vid.read()\n",
    "                    count += 1\n",
    "                    break\n",
    "    break\n",
    "\n",
    "                "
   ]
  },
  {
   "cell_type": "markdown",
   "metadata": {},
   "source": [
    "This gives me all the frames of all the videos in the label. and stores these images in a folder"
   ]
  }
 ],
 "metadata": {
  "kernelspec": {
   "display_name": "Python 3",
   "language": "python",
   "name": "python3"
  },
  "language_info": {
   "codemirror_mode": {
    "name": "ipython",
    "version": 3
   },
   "file_extension": ".py",
   "mimetype": "text/x-python",
   "name": "python",
   "nbconvert_exporter": "python",
   "pygments_lexer": "ipython3",
   "version": "3.10.7"
  }
 },
 "nbformat": 4,
 "nbformat_minor": 2
}
