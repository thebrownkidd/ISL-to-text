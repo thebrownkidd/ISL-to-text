{
 "cells": [
  {
   "cell_type": "code",
   "execution_count": 160,
   "metadata": {},
   "outputs": [],
   "source": [
    "import mediapipe as mp\n",
    "from mediapipe.framework.formats import landmark_pb2\n",
    "from mediapipe.tasks import python\n",
    "from mediapipe.tasks.python import vision\n",
    "from mediapipe import solutions\n",
    "import os\n",
    "import pandas as pd\n",
    "import numpy as np\n",
    "import cv2"
   ]
  },
  {
   "cell_type": "code",
   "execution_count": 161,
   "metadata": {},
   "outputs": [],
   "source": [
    "model_path = 'C:/Projects/ISL-to-text/INCLUDE 50/MP_Models/pose_landmarker_heavy.task'\n",
    "BaseOptions = mp.tasks.BaseOptions\n",
    "PoseLandmarker = mp.tasks.vision.PoseLandmarker\n",
    "PoseLandmarkerOptions = mp.tasks.vision.PoseLandmarkerOptions\n",
    "VisionRunningMode = mp.tasks.vision.RunningMode\n",
    "options_pose = PoseLandmarkerOptions(base_options = BaseOptions(model_asset_path = model_path),running_mode=VisionRunningMode.IMAGE)\n",
    "MARGIN = 10 \n",
    "FONT_SIZE = 1\n",
    "FONT_THICKNESS = 1\n",
    "HANDEDNESS_TEXT_COLOR = (88, 205, 54)"
   ]
  },
  {
   "cell_type": "code",
   "execution_count": 162,
   "metadata": {},
   "outputs": [],
   "source": [
    "HandLandmarker = mp.tasks.vision.HandLandmarker\n",
    "HandLandmarkerOptions = mp.tasks.vision.HandLandmarkerOptions\n",
    "\n",
    "options_hand = HandLandmarkerOptions(\n",
    "    base_options=BaseOptions(model_asset_path=\"C:\\Projects\\ISL-to-text\\INCLUDE 50\\MP_Models\\hand_landmarker.task\"),\n",
    "    running_mode=VisionRunningMode.IMAGE)\n",
    "    "
   ]
  },
  {
   "cell_type": "code",
   "execution_count": 163,
   "metadata": {},
   "outputs": [],
   "source": [
    "def draw_landmarks_pose(img, result):\n",
    "    if len(result.pose_landmarks)>0:\n",
    "        landmarks = result.pose_landmarks[0]\n",
    "        image = np.copy(img)\n",
    "        x = []\n",
    "        y = []\n",
    "        for landmark in landmarks:\n",
    "            x.append(landmark.x)\n",
    "            y.append(landmark.y)\n",
    "        lm_proto = landmark_pb2.NormalizedLandmarkList()\n",
    "        lm_proto.landmark.extend([landmark_pb2.NormalizedLandmark(x= landmark.x,y= landmark.y, z=landmark.z) for landmark in landmarks])\n",
    "        solutions.drawing_utils.draw_landmarks(image,lm_proto)\n",
    "        return image,x,y\n",
    "    else:\n",
    "        return img,[],[]\n",
    "    \n",
    "def draw_landmarks_hand(rgb_image, detection_result):\n",
    "    hand_landmarks_list = detection_result.hand_landmarks\n",
    "    handedness_list = detection_result.handedness\n",
    "    annotated_image = np.copy(rgb_image)\n",
    "    x_coordinates = []\n",
    "    y_coordinates = []\n",
    "    for idx in range(len(hand_landmarks_list)):\n",
    "        hand_landmarks = hand_landmarks_list[idx]\n",
    "        handedness = handedness_list[idx]\n",
    "\n",
    "        hand_landmarks_proto = landmark_pb2.NormalizedLandmarkList()\n",
    "        hand_landmarks_proto.landmark.extend([\n",
    "            landmark_pb2.NormalizedLandmark(x=landmark.x, y=landmark.y, z=landmark.z) for landmark in hand_landmarks\n",
    "            ])\n",
    "        solutions.drawing_utils.draw_landmarks(\n",
    "            annotated_image,\n",
    "            hand_landmarks_proto,\n",
    "            solutions.hands.HAND_CONNECTIONS,\n",
    "            solutions.drawing_styles.get_default_hand_landmarks_style(),\n",
    "            solutions.drawing_styles.get_default_hand_connections_style())\n",
    "    \n",
    "        height, width, _ = annotated_image.shape\n",
    "        x_coordinates = [landmark.x for landmark in hand_landmarks]\n",
    "        y_coordinates = [landmark.y for landmark in hand_landmarks]\n",
    "        text_x = int(min(x_coordinates) * width)\n",
    "        text_y = int(min(y_coordinates) * height) - MARGIN\n",
    "\n",
    "        cv2.putText(annotated_image, f\"{handedness[0].category_name}\",\n",
    "                    (text_x, text_y), cv2.FONT_HERSHEY_DUPLEX,\n",
    "                    FONT_SIZE, HANDEDNESS_TEXT_COLOR, FONT_THICKNESS, cv2.LINE_AA)\n",
    "\n",
    "    return annotated_image,x_coordinates,y_coordinates"
   ]
  },
  {
   "cell_type": "code",
   "execution_count": 169,
   "metadata": {},
   "outputs": [
    {
     "name": "stdout",
     "output_type": "stream",
     "text": [
      "HandLandmarkerResult(handedness=[], hand_landmarks=[], hand_world_landmarks=[])\n",
      "HandLandmarkerResult(handedness=[], hand_landmarks=[], hand_world_landmarks=[])\n",
      "HandLandmarkerResult(handedness=[], hand_landmarks=[], hand_world_landmarks=[])\n",
      "HandLandmarkerResult(handedness=[], hand_landmarks=[], hand_world_landmarks=[])\n",
      "HandLandmarkerResult(handedness=[], hand_landmarks=[], hand_world_landmarks=[])\n",
      "HandLandmarkerResult(handedness=[], hand_landmarks=[], hand_world_landmarks=[])\n",
      "HandLandmarkerResult(handedness=[], hand_landmarks=[], hand_world_landmarks=[])\n",
      "HandLandmarkerResult(handedness=[], hand_landmarks=[], hand_world_landmarks=[])\n",
      "HandLandmarkerResult(handedness=[], hand_landmarks=[], hand_world_landmarks=[])\n",
      "HandLandmarkerResult(handedness=[], hand_landmarks=[], hand_world_landmarks=[])\n",
      "HandLandmarkerResult(handedness=[], hand_landmarks=[], hand_world_landmarks=[])\n",
      "HandLandmarkerResult(handedness=[], hand_landmarks=[], hand_world_landmarks=[])\n",
      "HandLandmarkerResult(handedness=[], hand_landmarks=[], hand_world_landmarks=[])\n",
      "HandLandmarkerResult(handedness=[], hand_landmarks=[], hand_world_landmarks=[])\n",
      "HandLandmarkerResult(handedness=[], hand_landmarks=[], hand_world_landmarks=[])\n",
      "HandLandmarkerResult(handedness=[], hand_landmarks=[], hand_world_landmarks=[])\n",
      "HandLandmarkerResult(handedness=[], hand_landmarks=[], hand_world_landmarks=[])\n",
      "HandLandmarkerResult(handedness=[], hand_landmarks=[], hand_world_landmarks=[])\n",
      "HandLandmarkerResult(handedness=[], hand_landmarks=[], hand_world_landmarks=[])\n",
      "HandLandmarkerResult(handedness=[], hand_landmarks=[], hand_world_landmarks=[])\n",
      "HandLandmarkerResult(handedness=[], hand_landmarks=[], hand_world_landmarks=[])\n",
      "HandLandmarkerResult(handedness=[], hand_landmarks=[], hand_world_landmarks=[])\n",
      "HandLandmarkerResult(handedness=[], hand_landmarks=[], hand_world_landmarks=[])\n",
      "HandLandmarkerResult(handedness=[], hand_landmarks=[], hand_world_landmarks=[])\n",
      "HandLandmarkerResult(handedness=[], hand_landmarks=[], hand_world_landmarks=[])\n",
      "HandLandmarkerResult(handedness=[], hand_landmarks=[], hand_world_landmarks=[])\n",
      "HandLandmarkerResult(handedness=[], hand_landmarks=[], hand_world_landmarks=[])\n",
      "HandLandmarkerResult(handedness=[], hand_landmarks=[], hand_world_landmarks=[])\n",
      "HandLandmarkerResult(handedness=[], hand_landmarks=[], hand_world_landmarks=[])\n",
      "HandLandmarkerResult(handedness=[], hand_landmarks=[], hand_world_landmarks=[])\n",
      "HandLandmarkerResult(handedness=[], hand_landmarks=[], hand_world_landmarks=[])\n",
      "HandLandmarkerResult(handedness=[], hand_landmarks=[], hand_world_landmarks=[])\n",
      "HandLandmarkerResult(handedness=[], hand_landmarks=[], hand_world_landmarks=[])\n",
      "HandLandmarkerResult(handedness=[], hand_landmarks=[], hand_world_landmarks=[])\n",
      "HandLandmarkerResult(handedness=[], hand_landmarks=[], hand_world_landmarks=[])\n",
      "HandLandmarkerResult(handedness=[], hand_landmarks=[], hand_world_landmarks=[])\n",
      "HandLandmarkerResult(handedness=[], hand_landmarks=[], hand_world_landmarks=[])\n",
      "HandLandmarkerResult(handedness=[], hand_landmarks=[], hand_world_landmarks=[])\n",
      "HandLandmarkerResult(handedness=[], hand_landmarks=[], hand_world_landmarks=[])\n",
      "HandLandmarkerResult(handedness=[], hand_landmarks=[], hand_world_landmarks=[])\n",
      "HandLandmarkerResult(handedness=[], hand_landmarks=[], hand_world_landmarks=[])\n",
      "HandLandmarkerResult(handedness=[], hand_landmarks=[], hand_world_landmarks=[])\n",
      "HandLandmarkerResult(handedness=[], hand_landmarks=[], hand_world_landmarks=[])\n",
      "HandLandmarkerResult(handedness=[], hand_landmarks=[], hand_world_landmarks=[])\n",
      "HandLandmarkerResult(handedness=[], hand_landmarks=[], hand_world_landmarks=[])\n",
      "HandLandmarkerResult(handedness=[], hand_landmarks=[], hand_world_landmarks=[])\n",
      "HandLandmarkerResult(handedness=[], hand_landmarks=[], hand_world_landmarks=[])\n"
     ]
    },
    {
     "ename": "KeyboardInterrupt",
     "evalue": "",
     "output_type": "error",
     "traceback": [
      "\u001b[1;31m---------------------------------------------------------------------------\u001b[0m",
      "\u001b[1;31mKeyboardInterrupt\u001b[0m                         Traceback (most recent call last)",
      "Cell \u001b[1;32mIn[169], line 9\u001b[0m\n\u001b[0;32m      7\u001b[0m mp_image \u001b[38;5;241m=\u001b[39m mp\u001b[38;5;241m.\u001b[39mImage(image_format\u001b[38;5;241m=\u001b[39mmp\u001b[38;5;241m.\u001b[39mImageFormat\u001b[38;5;241m.\u001b[39mSRGB, data\u001b[38;5;241m=\u001b[39mframe)\n\u001b[0;32m      8\u001b[0m h,w,_  \u001b[38;5;241m=\u001b[39m frame\u001b[38;5;241m.\u001b[39mshape\n\u001b[1;32m----> 9\u001b[0m \u001b[38;5;28;01mwith\u001b[39;00m \u001b[43mPoseLandmarker\u001b[49m\u001b[38;5;241;43m.\u001b[39;49m\u001b[43mcreate_from_options\u001b[49m\u001b[43m(\u001b[49m\u001b[43moptions_pose\u001b[49m\u001b[43m)\u001b[49m \u001b[38;5;28;01mas\u001b[39;00m landmarker:\n\u001b[0;32m     10\u001b[0m     results \u001b[38;5;241m=\u001b[39m landmarker\u001b[38;5;241m.\u001b[39mdetect(mp_image)\n\u001b[0;32m     11\u001b[0m frame,_,_ \u001b[38;5;241m=\u001b[39m draw_landmarks_pose(frame,results)\n",
      "File \u001b[1;32mc:\\Users\\arpit\\AppData\\Local\\Programs\\Python\\Python310\\lib\\site-packages\\mediapipe\\tasks\\python\\vision\\pose_landmarker.py:319\u001b[0m, in \u001b[0;36mPoseLandmarker.create_from_options\u001b[1;34m(cls, options)\u001b[0m\n\u001b[0;32m    306\u001b[0m   output_streams\u001b[38;5;241m.\u001b[39mappend(\n\u001b[0;32m    307\u001b[0m       \u001b[38;5;124m'\u001b[39m\u001b[38;5;124m:\u001b[39m\u001b[38;5;124m'\u001b[39m\u001b[38;5;241m.\u001b[39mjoin([_SEGMENTATION_MASK_TAG, _SEGMENTATION_MASK_STREAM_NAME])\n\u001b[0;32m    308\u001b[0m   )\n\u001b[0;32m    310\u001b[0m task_info \u001b[38;5;241m=\u001b[39m _TaskInfo(\n\u001b[0;32m    311\u001b[0m     task_graph\u001b[38;5;241m=\u001b[39m_TASK_GRAPH_NAME,\n\u001b[0;32m    312\u001b[0m     input_streams\u001b[38;5;241m=\u001b[39m[\n\u001b[1;32m   (...)\u001b[0m\n\u001b[0;32m    317\u001b[0m     task_options\u001b[38;5;241m=\u001b[39moptions,\n\u001b[0;32m    318\u001b[0m )\n\u001b[1;32m--> 319\u001b[0m \u001b[38;5;28;01mreturn\u001b[39;00m \u001b[38;5;28;43mcls\u001b[39;49m\u001b[43m(\u001b[49m\n\u001b[0;32m    320\u001b[0m \u001b[43m    \u001b[49m\u001b[43mtask_info\u001b[49m\u001b[38;5;241;43m.\u001b[39;49m\u001b[43mgenerate_graph_config\u001b[49m\u001b[43m(\u001b[49m\n\u001b[0;32m    321\u001b[0m \u001b[43m        \u001b[49m\u001b[43menable_flow_limiting\u001b[49m\u001b[38;5;241;43m=\u001b[39;49m\u001b[43moptions\u001b[49m\u001b[38;5;241;43m.\u001b[39;49m\u001b[43mrunning_mode\u001b[49m\n\u001b[0;32m    322\u001b[0m \u001b[43m        \u001b[49m\u001b[38;5;241;43m==\u001b[39;49m\u001b[43m \u001b[49m\u001b[43m_RunningMode\u001b[49m\u001b[38;5;241;43m.\u001b[39;49m\u001b[43mLIVE_STREAM\u001b[49m\n\u001b[0;32m    323\u001b[0m \u001b[43m    \u001b[49m\u001b[43m)\u001b[49m\u001b[43m,\u001b[49m\n\u001b[0;32m    324\u001b[0m \u001b[43m    \u001b[49m\u001b[43moptions\u001b[49m\u001b[38;5;241;43m.\u001b[39;49m\u001b[43mrunning_mode\u001b[49m\u001b[43m,\u001b[49m\n\u001b[0;32m    325\u001b[0m \u001b[43m    \u001b[49m\u001b[43mpackets_callback\u001b[49m\u001b[43m \u001b[49m\u001b[38;5;28;43;01mif\u001b[39;49;00m\u001b[43m \u001b[49m\u001b[43moptions\u001b[49m\u001b[38;5;241;43m.\u001b[39;49m\u001b[43mresult_callback\u001b[49m\u001b[43m \u001b[49m\u001b[38;5;28;43;01melse\u001b[39;49;00m\u001b[43m \u001b[49m\u001b[38;5;28;43;01mNone\u001b[39;49;00m\u001b[43m,\u001b[49m\n\u001b[0;32m    326\u001b[0m \u001b[43m\u001b[49m\u001b[43m)\u001b[49m\n",
      "\u001b[1;31mKeyboardInterrupt\u001b[0m: "
     ]
    }
   ],
   "source": [
    "vid = cv2.VideoCapture(\"C:/Projects/ISL Research/INCLUDE50/Pronouns_2of2/Pronouns/46. you (plural)/MVI_0082.MOV\")\n",
    "\n",
    "while vid.isOpened():\n",
    "    suc,frame = vid.read()\n",
    "    while suc:\n",
    "        cv2.imwrite('C:/Projects/ISL-to-text/INCLUDE 50/MP_Models/frame.png',frame)\n",
    "        mp_image = mp.Image(image_format=mp.ImageFormat.SRGB, data=frame)\n",
    "        h,w,_  = frame.shape\n",
    "        with PoseLandmarker.create_from_options(options_pose) as landmarker:\n",
    "            results = landmarker.detect(mp_image)\n",
    "        frame,_,_ = draw_landmarks_pose(frame,results)\n",
    "        if results.pose_landmarks:\n",
    "            landmarks = results.pose_landmarks[0]\n",
    "            min_x = min([(landmark.x)*w for landmark in landmarks]) -130\n",
    "            max_x = max([(landmark.x)*w for landmark in landmarks]) +130\n",
    "            min_y = min([(landmark.y)*h for landmark in landmarks]) -130\n",
    "            max_y = max([(landmark.y)*h for landmark in landmarks])  +130\n",
    "        img = frame[int(min_y):int(max_y),int(min_x):int(max_x)]\n",
    "        cv2.imwrite('C:/Projects/ISL-to-text/INCLUDE 50/MP_Models/crop.png',img)\n",
    "        image = mp.Image(image_format=mp.ImageFormat.SRGB, data=np.array(img))\n",
    "        with HandLandmarker.create_from_options(options_hand) as landmarker:\n",
    "            landmarks = landmarker.detect(image)\n",
    "        an_img,x,y = draw_landmarks_hand(img,landmarks)\n",
    "        print(landmarks)\n",
    "        cv2.imwrite('C:/Projects/ISL-to-text/INCLUDE 50/MP_Models/annotatedframe.png',an_img)\n",
    "        suc,frame = vid.read()\n",
    "    vid.release()\n",
    "cv2.destroyAllWindows()"
   ]
  },
  {
   "cell_type": "code",
   "execution_count": 89,
   "metadata": {},
   "outputs": [
    {
     "name": "stdout",
     "output_type": "stream",
     "text": [
      "FaceLandmarkerResult(face_landmarks=[], face_blendshapes=[], facial_transformation_matrixes=[])\n"
     ]
    }
   ],
   "source": [
    "print(landmarks)"
   ]
  },
  {
   "cell_type": "markdown",
   "metadata": {},
   "source": [
    "Format for getting coordinates from landmarks"
   ]
  },
  {
   "cell_type": "markdown",
   "metadata": {},
   "source": [
    "landmarks.pose_landmarks[0][index].x"
   ]
  }
 ],
 "metadata": {
  "kernelspec": {
   "display_name": "Python 3",
   "language": "python",
   "name": "python3"
  },
  "language_info": {
   "codemirror_mode": {
    "name": "ipython",
    "version": 3
   },
   "file_extension": ".py",
   "mimetype": "text/x-python",
   "name": "python",
   "nbconvert_exporter": "python",
   "pygments_lexer": "ipython3",
   "version": "3.10.7"
  }
 },
 "nbformat": 4,
 "nbformat_minor": 2
}
