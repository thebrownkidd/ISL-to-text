{
 "cells": [
  {
   "cell_type": "code",
   "execution_count": 2,
   "metadata": {},
   "outputs": [],
   "source": [
    "import os\n",
    "import pandas as pd\n",
    "import numpy\n",
    "import cv2"
   ]
  },
  {
   "cell_type": "code",
   "execution_count": 3,
   "metadata": {},
   "outputs": [],
   "source": [
    "def vid2frames(p):\n",
    "    frames = []\n",
    "    vid = cv2.VideoCapture(p)\n",
    "    suc, img = vid.read()\n",
    "    count = 0\n",
    "    while suc:\n",
    "        frames.append(img)\n",
    "        suc, img = vid.read()\n",
    "        count += 1\n",
    "    return frames, count\n",
    "    "
   ]
  },
  {
   "cell_type": "code",
   "execution_count": null,
   "metadata": {},
   "outputs": [],
   "source": [
    "dir = \"\"\n",
    "out_path = \"\"\n",
    "# Name of dir where includ, name of path for output\n",
    "types = os.listdir(dir)\n",
    "for t in types:\n",
    "    for labels in os.listdir(os.path.join(dir,t)):\n",
    "        for l in labels:\n",
    "             label = l[2:]\n",
    "             for file in os.listdir(os.path.join(dir,t,label)):\n",
    "                os.mkdir(os.path.join(out_path,label,file+\"frames\"))\n",
    "                frames = []\n",
    "                vid = cv2.VideoCapture(os.path.join(dir,t,label,file))\n",
    "                suc, img = vid.read()\n",
    "                count = 1\n",
    "                while suc:\n",
    "                    cv2.imwrite(os.path.join(out_path,label,file+\"frames\")+str(count)+\".jpeg\",img)\n",
    "                    frames.append(img)\n",
    "                    suc, img = vid.read()\n",
    "                    count += 1\n",
    "                "
   ]
  },
  {
   "cell_type": "markdown",
   "metadata": {},
   "source": [
    "This gives me all the frames of all the videos in the label. and stores these images in a folder"
   ]
  }
 ],
 "metadata": {
  "kernelspec": {
   "display_name": "Python 3",
   "language": "python",
   "name": "python3"
  },
  "language_info": {
   "codemirror_mode": {
    "name": "ipython",
    "version": 3
   },
   "file_extension": ".py",
   "mimetype": "text/x-python",
   "name": "python",
   "nbconvert_exporter": "python",
   "pygments_lexer": "ipython3",
   "version": "3.10.12"
  }
 },
 "nbformat": 4,
 "nbformat_minor": 2
}
