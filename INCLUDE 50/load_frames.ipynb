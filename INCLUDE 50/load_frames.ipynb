{
 "cells": [
  {
   "cell_type": "code",
   "execution_count": 1,
   "metadata": {},
   "outputs": [],
   "source": [
    "import mediapipe as mp\n",
    "from mediapipe.framework.formats import landmark_pb2\n",
    "from mediapipe.tasks import python\n",
    "from mediapipe.tasks.python import vision\n",
    "from mediapipe import solutions\n",
    "import os\n",
    "import pandas as pd\n",
    "import numpy as np\n",
    "import cv2"
   ]
  },
  {
   "cell_type": "code",
   "execution_count": 2,
   "metadata": {},
   "outputs": [],
   "source": [
    "model_path = 'C:/Projects/ISL-to-text/INCLUDE 50/MP_Models/pose_landmarker_heavy.task'\n",
    "BaseOptions = mp.tasks.BaseOptions\n",
    "PoseLandmarker = mp.tasks.vision.PoseLandmarker\n",
    "PoseLandmarkerOptions = mp.tasks.vision.PoseLandmarkerOptions\n",
    "VisionRunningMode = mp.tasks.vision.RunningMode\n",
    "options_pose = PoseLandmarkerOptions(base_options = BaseOptions(model_asset_path = model_path),running_mode=VisionRunningMode.IMAGE)\n",
    "MARGIN = 10 \n",
    "FONT_SIZE = 1\n",
    "FONT_THICKNESS = 1\n",
    "HANDEDNESS_TEXT_COLOR = (88, 205, 54)"
   ]
  },
  {
   "cell_type": "code",
   "execution_count": 3,
   "metadata": {},
   "outputs": [],
   "source": [
    "HandLandmarker = mp.tasks.vision.HandLandmarker\n",
    "HandLandmarkerOptions = mp.tasks.vision.HandLandmarkerOptions\n",
    "\n",
    "options_hand = HandLandmarkerOptions(\n",
    "    base_options=BaseOptions(model_asset_path=\"C:\\Projects\\ISL-to-text\\INCLUDE 50\\MP_Models\\hand_landmarker.task\"),\n",
    "    running_mode=VisionRunningMode.IMAGE)\n",
    "    "
   ]
  },
  {
   "cell_type": "code",
   "execution_count": 4,
   "metadata": {},
   "outputs": [],
   "source": [
    "def draw_landmarks_pose(img, result):\n",
    "    if len(result.pose_landmarks)>0:\n",
    "        landmarks = result.pose_landmarks[0]\n",
    "        image = np.copy(img)\n",
    "        x = []\n",
    "        y = []\n",
    "        for landmark in landmarks:\n",
    "            x.append(landmark.x)\n",
    "            y.append(landmark.y)\n",
    "        lm_proto = landmark_pb2.NormalizedLandmarkList()\n",
    "        lm_proto.landmark.extend([landmark_pb2.NormalizedLandmark(x= landmark.x,y= landmark.y, z=landmark.z) for landmark in landmarks])\n",
    "        solutions.drawing_utils.draw_landmarks(image,lm_proto)\n",
    "        return image,x,y\n",
    "    else:\n",
    "        return img,[],[]\n",
    "    \n",
    "def draw_landmarks_hand(rgb_image, detection_result):\n",
    "    hand_landmarks_list = detection_result.hand_landmarks\n",
    "    handedness_list = detection_result.handedness\n",
    "    annotated_image = np.copy(rgb_image)\n",
    "    x_coordinates = []\n",
    "    y_coordinates = []\n",
    "    for idx in range(len(hand_landmarks_list)):\n",
    "        hand_landmarks = hand_landmarks_list[idx]\n",
    "        handedness = handedness_list[idx]\n",
    "\n",
    "        hand_landmarks_proto = landmark_pb2.NormalizedLandmarkList()\n",
    "        hand_landmarks_proto.landmark.extend([\n",
    "            landmark_pb2.NormalizedLandmark(x=landmark.x, y=landmark.y, z=landmark.z) for landmark in hand_landmarks\n",
    "            ])\n",
    "        solutions.drawing_utils.draw_landmarks(\n",
    "            annotated_image,\n",
    "            hand_landmarks_proto,\n",
    "            solutions.hands.HAND_CONNECTIONS,\n",
    "            solutions.drawing_styles.get_default_hand_landmarks_style(),\n",
    "            solutions.drawing_styles.get_default_hand_connections_style())\n",
    "    \n",
    "        height, width, _ = annotated_image.shape\n",
    "        x_coordinates = [landmark.x for landmark in hand_landmarks]\n",
    "        y_coordinates = [landmark.y for landmark in hand_landmarks]\n",
    "        text_x = int(min(x_coordinates) * width)\n",
    "        text_y = int(min(y_coordinates) * height) - MARGIN\n",
    "\n",
    "        cv2.putText(annotated_image, f\"{handedness[0].category_name}\",\n",
    "                    (text_x, text_y), cv2.FONT_HERSHEY_DUPLEX,\n",
    "                    FONT_SIZE, HANDEDNESS_TEXT_COLOR, FONT_THICKNESS, cv2.LINE_AA)\n",
    "\n",
    "    return annotated_image,x_coordinates,y_coordinates"
   ]
  },
  {
   "cell_type": "code",
   "execution_count": 16,
   "metadata": {},
   "outputs": [
    {
     "name": "stdout",
     "output_type": "stream",
     "text": [
      "HandLandmarkerResult(handedness=[], hand_landmarks=[], hand_world_landmarks=[])\n",
      "HandLandmarkerResult(handedness=[], hand_landmarks=[], hand_world_landmarks=[])\n",
      "HandLandmarkerResult(handedness=[], hand_landmarks=[], hand_world_landmarks=[])\n",
      "HandLandmarkerResult(handedness=[], hand_landmarks=[], hand_world_landmarks=[])\n",
      "HandLandmarkerResult(handedness=[], hand_landmarks=[], hand_world_landmarks=[])\n",
      "HandLandmarkerResult(handedness=[], hand_landmarks=[], hand_world_landmarks=[])\n",
      "HandLandmarkerResult(handedness=[], hand_landmarks=[], hand_world_landmarks=[])\n",
      "HandLandmarkerResult(handedness=[], hand_landmarks=[], hand_world_landmarks=[])\n",
      "HandLandmarkerResult(handedness=[], hand_landmarks=[], hand_world_landmarks=[])\n",
      "HandLandmarkerResult(handedness=[], hand_landmarks=[], hand_world_landmarks=[])\n",
      "HandLandmarkerResult(handedness=[], hand_landmarks=[], hand_world_landmarks=[])\n",
      "HandLandmarkerResult(handedness=[], hand_landmarks=[], hand_world_landmarks=[])\n",
      "HandLandmarkerResult(handedness=[], hand_landmarks=[], hand_world_landmarks=[])\n",
      "HandLandmarkerResult(handedness=[], hand_landmarks=[], hand_world_landmarks=[])\n",
      "HandLandmarkerResult(handedness=[], hand_landmarks=[], hand_world_landmarks=[])\n",
      "HandLandmarkerResult(handedness=[], hand_landmarks=[], hand_world_landmarks=[])\n",
      "HandLandmarkerResult(handedness=[], hand_landmarks=[], hand_world_landmarks=[])\n",
      "HandLandmarkerResult(handedness=[], hand_landmarks=[], hand_world_landmarks=[])\n",
      "HandLandmarkerResult(handedness=[], hand_landmarks=[], hand_world_landmarks=[])\n",
      "HandLandmarkerResult(handedness=[], hand_landmarks=[], hand_world_landmarks=[])\n",
      "HandLandmarkerResult(handedness=[], hand_landmarks=[], hand_world_landmarks=[])\n",
      "HandLandmarkerResult(handedness=[], hand_landmarks=[], hand_world_landmarks=[])\n",
      "HandLandmarkerResult(handedness=[], hand_landmarks=[], hand_world_landmarks=[])\n",
      "HandLandmarkerResult(handedness=[], hand_landmarks=[], hand_world_landmarks=[])\n",
      "HandLandmarkerResult(handedness=[], hand_landmarks=[], hand_world_landmarks=[])\n",
      "HandLandmarkerResult(handedness=[], hand_landmarks=[], hand_world_landmarks=[])\n",
      "HandLandmarkerResult(handedness=[], hand_landmarks=[], hand_world_landmarks=[])\n",
      "HandLandmarkerResult(handedness=[], hand_landmarks=[], hand_world_landmarks=[])\n",
      "HandLandmarkerResult(handedness=[], hand_landmarks=[], hand_world_landmarks=[])\n",
      "HandLandmarkerResult(handedness=[], hand_landmarks=[], hand_world_landmarks=[])\n",
      "HandLandmarkerResult(handedness=[], hand_landmarks=[], hand_world_landmarks=[])\n",
      "HandLandmarkerResult(handedness=[], hand_landmarks=[], hand_world_landmarks=[])\n",
      "HandLandmarkerResult(handedness=[], hand_landmarks=[], hand_world_landmarks=[])\n",
      "HandLandmarkerResult(handedness=[], hand_landmarks=[], hand_world_landmarks=[])\n",
      "HandLandmarkerResult(handedness=[], hand_landmarks=[], hand_world_landmarks=[])\n",
      "HandLandmarkerResult(handedness=[], hand_landmarks=[], hand_world_landmarks=[])\n",
      "HandLandmarkerResult(handedness=[], hand_landmarks=[], hand_world_landmarks=[])\n",
      "HandLandmarkerResult(handedness=[], hand_landmarks=[], hand_world_landmarks=[])\n",
      "HandLandmarkerResult(handedness=[], hand_landmarks=[], hand_world_landmarks=[])\n",
      "HandLandmarkerResult(handedness=[], hand_landmarks=[], hand_world_landmarks=[])\n",
      "HandLandmarkerResult(handedness=[], hand_landmarks=[], hand_world_landmarks=[])\n",
      "HandLandmarkerResult(handedness=[], hand_landmarks=[], hand_world_landmarks=[])\n",
      "HandLandmarkerResult(handedness=[], hand_landmarks=[], hand_world_landmarks=[])\n",
      "HandLandmarkerResult(handedness=[], hand_landmarks=[], hand_world_landmarks=[])\n",
      "HandLandmarkerResult(handedness=[], hand_landmarks=[], hand_world_landmarks=[])\n",
      "HandLandmarkerResult(handedness=[], hand_landmarks=[], hand_world_landmarks=[])\n",
      "HandLandmarkerResult(handedness=[], hand_landmarks=[], hand_world_landmarks=[])\n",
      "HandLandmarkerResult(handedness=[], hand_landmarks=[], hand_world_landmarks=[])\n",
      "HandLandmarkerResult(handedness=[], hand_landmarks=[], hand_world_landmarks=[])\n",
      "HandLandmarkerResult(handedness=[], hand_landmarks=[], hand_world_landmarks=[])\n",
      "HandLandmarkerResult(handedness=[], hand_landmarks=[], hand_world_landmarks=[])\n",
      "HandLandmarkerResult(handedness=[], hand_landmarks=[], hand_world_landmarks=[])\n",
      "HandLandmarkerResult(handedness=[], hand_landmarks=[], hand_world_landmarks=[])\n",
      "HandLandmarkerResult(handedness=[], hand_landmarks=[], hand_world_landmarks=[])\n"
     ]
    }
   ],
   "source": [
    "vid = cv2.VideoCapture(\"C:\\Projects\\ISL Research\\INCLUDE50\\Places_1of4\\Places/19. House\\MVI_3350.MOV\")\n",
    "\n",
    "while vid.isOpened():\n",
    "    suc,frame = vid.read()\n",
    "    while suc:\n",
    "        cv2.imwrite('C:/Projects/ISL-to-text/INCLUDE 50/MP_Models/frame.png',frame)\n",
    "        mp_image = mp.Image(image_format=mp.ImageFormat.SRGB, data=frame)\n",
    "        h,w,_  = frame.shape\n",
    "        with PoseLandmarker.create_from_options(options_pose) as landmarker:\n",
    "            results = landmarker.detect(mp_image)\n",
    "        frame,_,_ = draw_landmarks_pose(frame,results)\n",
    "        if results.pose_landmarks:\n",
    "            landmarks = results.pose_landmarks[0]\n",
    "            min_x = min([(landmark.x)*w for landmark in landmarks]) -130\n",
    "            max_x = max([(landmark.x)*w for landmark in landmarks]) +130\n",
    "            min_y = min([(landmark.y)*h for landmark in landmarks]) -130\n",
    "            max_y = max([(landmark.y)*h for landmark in landmarks])  +130\n",
    "        img = frame[int(min_y):int(max_y),int(min_x):int(max_x)]\n",
    "        cv2.imwrite('C:/Projects/ISL-to-text/INCLUDE 50/MP_Models/crop.png',img)\n",
    "        image = mp.Image(image_format=mp.ImageFormat.SRGB, data=np.array(img))\n",
    "        with HandLandmarker.create_from_options(options_hand) as landmarker:\n",
    "            landmarks = landmarker.detect(image)\n",
    "        an_img,x,y = draw_landmarks_hand(img,landmarks)\n",
    "        print(landmarks)\n",
    "        cv2.imwrite('C:/Projects/ISL-to-text/INCLUDE 50/MP_Models/annotatedframe.png',an_img)\n",
    "        suc,frame = vid.read()\n",
    "    vid.release()\n",
    "cv2.destroyAllWindows()"
   ]
  },
  {
   "cell_type": "code",
   "execution_count": 6,
   "metadata": {},
   "outputs": [
    {
     "name": "stdout",
     "output_type": "stream",
     "text": [
      "HandLandmarkerResult(handedness=[], hand_landmarks=[], hand_world_landmarks=[])\n"
     ]
    }
   ],
   "source": [
    "print(landmarks)"
   ]
  },
  {
   "cell_type": "markdown",
   "metadata": {},
   "source": [
    "Format for getting coordinates from landmarks"
   ]
  },
  {
   "cell_type": "markdown",
   "metadata": {},
   "source": [
    "landmarks.pose_landmarks[0][index].x"
   ]
  },
  {
   "cell_type": "code",
   "execution_count": 19,
   "metadata": {},
   "outputs": [
    {
     "name": "stdout",
     "output_type": "stream",
     "text": [
      "HandLandmarkerResult(handedness=[], hand_landmarks=[], hand_world_landmarks=[])\n",
      "HandLandmarkerResult(handedness=[], hand_landmarks=[], hand_world_landmarks=[])\n",
      "HandLandmarkerResult(handedness=[[Category(index=0, score=0.9860396385192871, display_name='Right', category_name='Right')]], hand_landmarks=[[NormalizedLandmark(x=0.32192665338516235, y=0.25674980878829956, z=2.170611708152137e-07, visibility=0.0, presence=0.0), NormalizedLandmark(x=0.36755692958831787, y=0.24025171995162964, z=-0.00048339739441871643, visibility=0.0, presence=0.0), NormalizedLandmark(x=0.39813095331192017, y=0.210581973195076, z=0.0026395416352897882, visibility=0.0, presence=0.0), NormalizedLandmark(x=0.4209929406642914, y=0.18653522431850433, z=0.0020429014693945646, visibility=0.0, presence=0.0), NormalizedLandmark(x=0.4333515167236328, y=0.16470035910606384, z=0.0022793535608798265, visibility=0.0, presence=0.0), NormalizedLandmark(x=0.3659185469150543, y=0.16840100288391113, z=0.018954027444124222, visibility=0.0, presence=0.0), NormalizedLandmark(x=0.38588035106658936, y=0.13850177824497223, z=0.007953785359859467, visibility=0.0, presence=0.0), NormalizedLandmark(x=0.4023958742618561, y=0.14343824982643127, z=-0.0021546247880905867, visibility=0.0, presence=0.0), NormalizedLandmark(x=0.41421857476234436, y=0.1589583158493042, z=-0.005966715980321169, visibility=0.0, presence=0.0), NormalizedLandmark(x=0.34357452392578125, y=0.15895237028598785, z=0.014043810777366161, visibility=0.0, presence=0.0), NormalizedLandmark(x=0.3428332805633545, y=0.11690092831850052, z=0.013911766931414604, visibility=0.0, presence=0.0), NormalizedLandmark(x=0.3492356538772583, y=0.09285254776477814, z=0.009028061293065548, visibility=0.0, presence=0.0), NormalizedLandmark(x=0.3555537462234497, y=0.07477910816669464, z=0.005137076135724783, visibility=0.0, presence=0.0), NormalizedLandmark(x=0.3233812153339386, y=0.15772949159145355, z=0.0055323331616818905, visibility=0.0, presence=0.0), NormalizedLandmark(x=0.3123988211154938, y=0.11786727607250214, z=0.005543731153011322, visibility=0.0, presence=0.0), NormalizedLandmark(x=0.3175375759601593, y=0.09130563586950302, z=0.003702868241816759, visibility=0.0, presence=0.0), NormalizedLandmark(x=0.3238517642021179, y=0.0721602737903595, z=0.0016666307346895337, visibility=0.0, presence=0.0), NormalizedLandmark(x=0.30556461215019226, y=0.1645820140838623, z=-0.004602383356541395, visibility=0.0, presence=0.0), NormalizedLandmark(x=0.2904476225376129, y=0.135074183344841, z=-0.0049668471328914165, visibility=0.0, presence=0.0), NormalizedLandmark(x=0.28893113136291504, y=0.11302338540554047, z=-0.004606015980243683, visibility=0.0, presence=0.0), NormalizedLandmark(x=0.29074499011039734, y=0.09496793150901794, z=-0.003896191017702222, visibility=0.0, presence=0.0)]], hand_world_landmarks=[[Landmark(x=-0.013765428215265274, y=0.08738978952169418, z=-0.03877905011177063, visibility=0.0, presence=0.0), Landmark(x=0.018998591229319572, y=0.06897065788507462, z=-0.031148714944720268, visibility=0.0, presence=0.0), Landmark(x=0.046875372529029846, y=0.04852981120347977, z=-0.024315791204571724, visibility=0.0, presence=0.0), Landmark(x=0.06836675852537155, y=0.025396939367055893, z=-0.011253678239881992, visibility=0.0, presence=0.0), Landmark(x=0.07928349822759628, y=-0.0014197230339050293, z=-0.002565394388511777, visibility=0.0, presence=0.0), Landmark(x=0.025047890841960907, y=0.0026988759636878967, z=0.011557705700397491, visibility=0.0, presence=0.0), Landmark(x=0.04053771495819092, y=-0.016063209623098373, z=0.0005450607859529555, visibility=0.0, presence=0.0), Landmark(x=0.05058873072266579, y=-0.016696352511644363, z=-0.012838154099881649, visibility=0.0, presence=0.0), Landmark(x=0.06143321841955185, y=0.0018584486097097397, z=-0.04002630338072777, visibility=0.0, presence=0.0), Landmark(x=0.0001595248468220234, y=-0.004734227433800697, z=0.00781986117362976, visibility=0.0, presence=0.0), Landmark(x=0.0075348783284425735, y=-0.043638765811920166, z=-0.002137233270332217, visibility=0.0, presence=0.0), Landmark(x=0.012438924983143806, y=-0.05832564830780029, z=-0.017062706872820854, visibility=0.0, presence=0.0), Landmark(x=0.018878042697906494, y=-0.07225630432367325, z=-0.03415893763303757, visibility=0.0, presence=0.0), Landmark(x=-0.016371631994843483, y=-0.004743834957480431, z=-0.007504984736442566, visibility=0.0, presence=0.0), Landmark(x=-0.015280879102647305, y=-0.03906504064798355, z=-0.008892958983778954, visibility=0.0, presence=0.0), Landmark(x=-0.011174136772751808, y=-0.06079314649105072, z=-0.018691228702664375, visibility=0.0, presence=0.0), Landmark(x=-0.005366232246160507, y=-0.07485154271125793, z=-0.030308784916996956, visibility=0.0, presence=0.0), Landmark(x=-0.02983781509101391, y=0.004777752794325352, z=-0.02140555903315544, visibility=0.0, presence=0.0), Landmark(x=-0.037517379969358444, y=-0.019181979820132256, z=-0.020952535793185234, visibility=0.0, presence=0.0), Landmark(x=-0.036750197410583496, y=-0.04599197208881378, z=-0.0254304651170969, visibility=0.0, presence=0.0), Landmark(x=-0.03102932497859001, y=-0.05793074145913124, z=-0.02960672788321972, visibility=0.0, presence=0.0)]])\n",
      "HandLandmarkerResult(handedness=[], hand_landmarks=[], hand_world_landmarks=[])\n",
      "HandLandmarkerResult(handedness=[[Category(index=1, score=0.995201587677002, display_name='Left', category_name='Left')]], hand_landmarks=[[NormalizedLandmark(x=0.6117376089096069, y=0.8320216536521912, z=1.609469109098427e-07, visibility=0.0, presence=0.0), NormalizedLandmark(x=0.5636839866638184, y=0.8397158980369568, z=0.0004115074116270989, visibility=0.0, presence=0.0), NormalizedLandmark(x=0.53193598985672, y=0.8624572157859802, z=-0.007687958888709545, visibility=0.0, presence=0.0), NormalizedLandmark(x=0.5190730690956116, y=0.8887060284614563, z=-0.01452743262052536, visibility=0.0, presence=0.0), NormalizedLandmark(x=0.5233538150787354, y=0.9124032855033875, z=-0.02468263916671276, visibility=0.0, presence=0.0), NormalizedLandmark(x=0.5304242968559265, y=0.8704911470413208, z=-0.03984038904309273, visibility=0.0, presence=0.0), NormalizedLandmark(x=0.5130392909049988, y=0.91322261095047, z=-0.05543558672070503, visibility=0.0, presence=0.0), NormalizedLandmark(x=0.5037840604782104, y=0.9407161474227905, z=-0.06336358189582825, visibility=0.0, presence=0.0), NormalizedLandmark(x=0.49583807587623596, y=0.9623745679855347, z=-0.06818251311779022, visibility=0.0, presence=0.0), NormalizedLandmark(x=0.5574652552604675, y=0.879083514213562, z=-0.046666476875543594, visibility=0.0, presence=0.0), NormalizedLandmark(x=0.5421781539916992, y=0.9308006763458252, z=-0.06314385682344437, visibility=0.0, presence=0.0), NormalizedLandmark(x=0.5302345752716064, y=0.9617127776145935, z=-0.07019562274217606, visibility=0.0, presence=0.0), NormalizedLandmark(x=0.5205199718475342, y=0.9823932647705078, z=-0.07486659288406372, visibility=0.0, presence=0.0), NormalizedLandmark(x=0.5863779187202454, y=0.8867480754852295, z=-0.05044868215918541, visibility=0.0, presence=0.0), NormalizedLandmark(x=0.5736953616142273, y=0.9371684193611145, z=-0.06381464004516602, visibility=0.0, presence=0.0), NormalizedLandmark(x=0.5594521164894104, y=0.9645670652389526, z=-0.06710206717252731, visibility=0.0, presence=0.0), NormalizedLandmark(x=0.5468317866325378, y=0.9823747873306274, z=-0.0685596913099289, visibility=0.0, presence=0.0), NormalizedLandmark(x=0.6138414144515991, y=0.8919234275817871, z=-0.05263436585664749, visibility=0.0, presence=0.0), NormalizedLandmark(x=0.5960106253623962, y=0.9273350238800049, z=-0.06287363171577454, visibility=0.0, presence=0.0), NormalizedLandmark(x=0.5822778344154358, y=0.9460450410842896, z=-0.06312437355518341, visibility=0.0, presence=0.0), NormalizedLandmark(x=0.5698767900466919, y=0.9599712491035461, z=-0.06207666173577309, visibility=0.0, presence=0.0)]], hand_world_landmarks=[[Landmark(x=0.036936353892087936, y=-0.043848808854818344, z=0.06947899609804153, visibility=0.0, presence=0.0), Landmark(x=0.008656525984406471, y=-0.031778424978256226, z=0.05735360458493233, visibility=0.0, presence=0.0), Landmark(x=-0.012116007506847382, y=-0.01569276675581932, z=0.050466593354940414, visibility=0.0, presence=0.0), Landmark(x=-0.014876071363687515, y=0.0003090687096118927, z=0.02659144625067711, visibility=0.0, presence=0.0), Landmark(x=-0.013030754402279854, y=0.025234851986169815, z=0.0047644819132983685, visibility=0.0, presence=0.0), Landmark(x=-0.012822823598980904, y=-0.004081015940755606, z=0.0011101013515144587, visibility=0.0, presence=0.0), Landmark(x=-0.021534517407417297, y=0.014579297043383121, z=-0.00387056777253747, visibility=0.0, presence=0.0), Landmark(x=-0.029654480516910553, y=0.03596080094575882, z=0.009304245002567768, visibility=0.0, presence=0.0), Landmark(x=-0.030235186219215393, y=0.05950041115283966, z=0.022802790626883507, visibility=0.0, presence=0.0), Landmark(x=-0.002403322607278824, y=0.0003623384400270879, z=-0.0028796042315661907, visibility=0.0, presence=0.0), Landmark(x=-0.010537060908973217, y=0.027462409809231758, z=-0.004672738257795572, visibility=0.0, presence=0.0), Landmark(x=-0.014686953276395798, y=0.05747802555561066, z=0.0036901889834553003, visibility=0.0, presence=0.0), Landmark(x=-0.023415081202983856, y=0.07876726984977722, z=0.0249550249427557, visibility=0.0, presence=0.0), Landmark(x=0.00866698194295168, y=0.004208569414913654, z=-0.002088210778310895, visibility=0.0, presence=0.0), Landmark(x=0.004639380611479282, y=0.03195485100150108, z=0.001270241104066372, visibility=0.0, presence=0.0), Landmark(x=5.9233978390693665e-05, y=0.060317084193229675, z=0.01024935208261013, visibility=0.0, presence=0.0), Landmark(x=-0.013046488165855408, y=0.07886406034231186, z=0.03127705305814743, visibility=0.0, presence=0.0), Landmark(x=0.026641737669706345, y=0.008399272337555885, z=0.009479435160756111, visibility=0.0, presence=0.0), Landmark(x=0.01850004680454731, y=0.022834384813904762, z=0.00901572685688734, visibility=0.0, presence=0.0), Landmark(x=0.006597589701414108, y=0.044498857110738754, z=0.017227375879883766, visibility=0.0, presence=0.0), Landmark(x=-0.00399421900510788, y=0.056770384311676025, z=0.025552066043019295, visibility=0.0, presence=0.0)]])\n",
      "HandLandmarkerResult(handedness=[[Category(index=0, score=0.9856855273246765, display_name='Right', category_name='Right')]], hand_landmarks=[[NormalizedLandmark(x=0.31032508611679077, y=0.26959165930747986, z=3.127709078398766e-07, visibility=0.0, presence=0.0), NormalizedLandmark(x=0.3583458662033081, y=0.25481611490249634, z=-1.868767685664352e-05, visibility=0.0, presence=0.0), NormalizedLandmark(x=0.3926513195037842, y=0.22481049597263336, z=0.005282844882458448, visibility=0.0, presence=0.0), NormalizedLandmark(x=0.41940951347351074, y=0.20430853962898254, z=0.006846054457128048, visibility=0.0, presence=0.0), NormalizedLandmark(x=0.4356479346752167, y=0.18248631060123444, z=0.008719752542674541, visibility=0.0, presence=0.0), NormalizedLandmark(x=0.3627929091453552, y=0.1869387924671173, z=0.02474641427397728, visibility=0.0, presence=0.0), NormalizedLandmark(x=0.3835017681121826, y=0.1595442146062851, z=0.015822086483240128, visibility=0.0, presence=0.0), NormalizedLandmark(x=0.4051201045513153, y=0.15819691121578217, z=0.005761257838457823, visibility=0.0, presence=0.0), NormalizedLandmark(x=0.42013978958129883, y=0.16808217763900757, z=0.0011575811076909304, visibility=0.0, presence=0.0), NormalizedLandmark(x=0.34727612137794495, y=0.17471836507320404, z=0.018408089876174927, visibility=0.0, presence=0.0), NormalizedLandmark(x=0.36431583762168884, y=0.13324713706970215, z=0.013442491181194782, visibility=0.0, presence=0.0), NormalizedLandmark(x=0.39017993211746216, y=0.12258374691009521, z=0.003987252712249756, visibility=0.0, presence=0.0), NormalizedLandmark(x=0.4091337025165558, y=0.12988902628421783, z=-0.002268669195473194, visibility=0.0, presence=0.0), NormalizedLandmark(x=0.3284190893173218, y=0.16793836653232574, z=0.008280607871711254, visibility=0.0, presence=0.0), NormalizedLandmark(x=0.34092196822166443, y=0.12367735803127289, z=-4.039558916701935e-05, visibility=0.0, presence=0.0), NormalizedLandmark(x=0.36619600653648376, y=0.11790969967842102, z=-0.008854884654283524, visibility=0.0, presence=0.0), NormalizedLandmark(x=0.38469305634498596, y=0.13046567142009735, z=-0.01344376988708973, visibility=0.0, presence=0.0), NormalizedLandmark(x=0.3075507879257202, y=0.16587381064891815, z=-0.002612279262393713, visibility=0.0, presence=0.0), NormalizedLandmark(x=0.3165055811405182, y=0.12970291078090668, z=-0.010194231756031513, visibility=0.0, presence=0.0), NormalizedLandmark(x=0.33740246295928955, y=0.12529540061950684, z=-0.01490093395113945, visibility=0.0, presence=0.0), NormalizedLandmark(x=0.3555471897125244, y=0.13722506165504456, z=-0.01719704642891884, visibility=0.0, presence=0.0)]], hand_world_landmarks=[[Landmark(x=-0.01988881267607212, y=0.07858329266309738, z=-0.058457229286432266, visibility=0.0, presence=0.0), Landmark(x=0.013343827798962593, y=0.06691879034042358, z=-0.03965650498867035, visibility=0.0, presence=0.0), Landmark(x=0.04174346849322319, y=0.05064442753791809, z=-0.023005148395895958, visibility=0.0, presence=0.0), Landmark(x=0.06216741353273392, y=0.028255825862288475, z=-0.0030059812124818563, visibility=0.0, presence=0.0), Landmark(x=0.07841786742210388, y=0.006802905350923538, z=0.015764405950903893, visibility=0.0, presence=0.0), Landmark(x=0.01752178743481636, y=0.011517820879817009, z=0.017627527937293053, visibility=0.0, presence=0.0), Landmark(x=0.03525879979133606, y=-0.008558538742363453, z=0.013989860191941261, visibility=0.0, presence=0.0), Landmark(x=0.051461346447467804, y=-0.014287224039435387, z=0.003348586382344365, visibility=0.0, presence=0.0), Landmark(x=0.06246354430913925, y=-0.0012793801724910736, z=-0.019112946465611458, visibility=0.0, presence=0.0), Landmark(x=-0.0009180351626127958, y=-0.003015116322785616, z=0.009525270201265812, visibility=0.0, presence=0.0), Landmark(x=0.02120782993733883, y=-0.035480331629514694, z=0.003946265671402216, visibility=0.0, presence=0.0), Landmark(x=0.03962776064872742, y=-0.0407678559422493, z=-0.011380714364349842, visibility=0.0, presence=0.0), Landmark(x=0.05775376409292221, y=-0.036217328161001205, z=-0.027737971395254135, visibility=0.0, presence=0.0), Landmark(x=-0.012345299124717712, y=-0.008638662286102772, z=-0.010754834860563278, visibility=0.0, presence=0.0), Landmark(x=0.0034068580716848373, y=-0.0404171347618103, z=-0.01660657674074173, visibility=0.0, presence=0.0), Landmark(x=0.02320404350757599, y=-0.043764013797044754, z=-0.031637921929359436, visibility=0.0, presence=0.0), Landmark(x=0.04056689515709877, y=-0.031737979501485825, z=-0.0476374551653862, visibility=0.0, presence=0.0), Landmark(x=-0.023431917652487755, y=-0.008290952071547508, z=-0.03218013420701027, visibility=0.0, presence=0.0), Landmark(x=-0.017850976437330246, y=-0.030985277146100998, z=-0.030012039467692375, visibility=0.0, presence=0.0), Landmark(x=0.0008943416178226471, y=-0.041451312601566315, z=-0.03942269831895828, visibility=0.0, presence=0.0), Landmark(x=0.02113165147602558, y=-0.030232936143875122, z=-0.050445616245269775, visibility=0.0, presence=0.0)]])\n",
      "HandLandmarkerResult(handedness=[], hand_landmarks=[], hand_world_landmarks=[])\n",
      "HandLandmarkerResult(handedness=[], hand_landmarks=[], hand_world_landmarks=[])\n",
      "HandLandmarkerResult(handedness=[], hand_landmarks=[], hand_world_landmarks=[])\n",
      "HandLandmarkerResult(handedness=[], hand_landmarks=[], hand_world_landmarks=[])\n"
     ]
    }
   ],
   "source": [
    "#Load Frames form still image folder\n",
    "path = 'C:\\Projects\\ISL-to-text\\Word Level ISL'\n",
    "for file in os.listdir(path):\n",
    "    frame = cv2.imread(os.path.join(path,file))\n",
    "    mp_image = mp.Image(image_format=mp.ImageFormat.SRGB, data=frame)\n",
    "    h,w,_  = frame.shape\n",
    "    with PoseLandmarker.create_from_options(options_pose) as landmarker:\n",
    "        results = landmarker.detect(mp_image)\n",
    "    frame,_,_ = draw_landmarks_pose(frame,results)\n",
    "    if results.pose_landmarks:\n",
    "        landmarks = results.pose_landmarks[0]\n",
    "        min_x = min([(landmark.x)*w for landmark in landmarks]) -130\n",
    "        max_x = max([(landmark.x)*w for landmark in landmarks]) +130\n",
    "        min_y = min([(landmark.y)*h for landmark in landmarks]) -130\n",
    "        max_y = max([(landmark.y)*h for landmark in landmarks])  +130\n",
    "    img = frame[int(min_y):int(max_y),int(min_x):int(max_x)]\n",
    "    cv2.imwrite('C:/Projects/ISL-to-text/INCLUDE 50/MP_Models/crop.png',img)\n",
    "    image = mp.Image(image_format=mp.ImageFormat.SRGB, data=np.array(img))\n",
    "    with HandLandmarker.create_from_options(options_hand) as landmarker:\n",
    "        landmarks = landmarker.detect(image)\n",
    "    an_img,x,y = draw_landmarks_hand(img,landmarks)\n",
    "    print(landmarks)\n",
    "    if(len(landmarks.hand_landmarks)!=0):\n",
    "        cv2.imwrite('C:/Projects/ISL-to-text/INCLUDE 50/MP_Models/lmed'+file+'.png',an_img)"
   ]
  },
  {
   "cell_type": "code",
   "execution_count": 32,
   "metadata": {},
   "outputs": [
    {
     "name": "stdout",
     "output_type": "stream",
     "text": [
      "Right\n"
     ]
    }
   ],
   "source": [
    "image = mp.Image(image_format=mp.ImageFormat.SRGB, data=cv2.imread('C:\\Projects\\ISL-to-text\\Word Level ISL\\ANGRY (5).jpg'))\n",
    "with HandLandmarker.create_from_options(options_hand) as landmarker:\n",
    "       landmarks = landmarker.detect(image)\n",
    "print(landmarks.handedness[0][0].display_name)"
   ]
  },
  {
   "cell_type": "markdown",
   "metadata": {},
   "source": [
    "Check for which hand, pair with check for how many hands"
   ]
  },
  {
   "cell_type": "markdown",
   "metadata": {},
   "source": [
    "Notes:\n",
    "1. If one of the hands is undetected/random, that hand can take any position, use to augment data, use atleast 20 random undetected hand positions to crfeate 20x new entries.\n",
    "2. Match the number and side of hands detected in each category and eleminate the odd ones.\n",
    "3. Augment the data based on the open and closed palm simulation.\n",
    "4. augment the data using spacial transformations like the venus paper.\n",
    "5. fred data into embedding layer (returns 3 vectors of 42,1)\n",
    "6. Throw into a Transformer Encoder without the positional engoding.\n",
    "7. Use a transformer decoder with avalible dictionary."
   ]
  }
 ],
 "metadata": {
  "kernelspec": {
   "display_name": "Python 3",
   "language": "python",
   "name": "python3"
  },
  "language_info": {
   "codemirror_mode": {
    "name": "ipython",
    "version": 3
   },
   "file_extension": ".py",
   "mimetype": "text/x-python",
   "name": "python",
   "nbconvert_exporter": "python",
   "pygments_lexer": "ipython3",
   "version": "3.10.7"
  }
 },
 "nbformat": 4,
 "nbformat_minor": 2
}
