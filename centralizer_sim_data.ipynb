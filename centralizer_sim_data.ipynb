{
 "cells": [
  {
   "cell_type": "code",
   "execution_count": 5,
   "metadata": {},
   "outputs": [
    {
     "name": "stdout",
     "output_type": "stream",
     "text": [
      "419\n"
     ]
    },
    {
     "name": "stderr",
     "output_type": "stream",
     "text": [
      "C:\\Users\\arpit\\AppData\\Local\\Temp\\ipykernel_17624\\2183363142.py:5: FutureWarning: Series.__getitem__ treating keys as positions is deprecated. In a future version, integer keys will always be treated as labels (consistent with DataFrame behavior). To access a value by position, use `ser.iloc[pos]`\n",
      "  print(len(Data.iloc[0][1]))\n"
     ]
    }
   ],
   "source": [
    "import pandas as pd\n",
    "f = 'C:\\Projects\\ISL-to-text\\Simulater.csv'\n",
    "# d = f.read()\n",
    "Data = pd.read_csv(f)\n",
    "print(len(Data.iloc[0][1]))"
   ]
  },
  {
   "cell_type": "code",
   "execution_count": 17,
   "metadata": {},
   "outputs": [],
   "source": [
    "def toarray(a):\n",
    "    a = str(a)\n",
    "    a = a[1:len(a)-2]\n",
    "    val = []\n",
    "    x=0\n",
    "    while x<len(a):\n",
    "        if(len(val) == 21):\n",
    "            break\n",
    "        temp = \"\"\n",
    "        # print(a[x:])\n",
    "        for y in range(x,len(a)):\n",
    "            if a[y] != \",\":\n",
    "                temp += a[y]\n",
    "            else:\n",
    "                x = y+1\n",
    "                break\n",
    "        if len(temp) != 0:\n",
    "            val.append(float(temp))\n",
    "        x+=1\n",
    "    return val"
   ]
  },
  {
   "cell_type": "code",
   "execution_count": 34,
   "metadata": {},
   "outputs": [
    {
     "name": "stdout",
     "output_type": "stream",
     "text": [
      "[0.6389526724815369, 0.5815642476081848, 0.530685305595398, 0.4999157190322876, 0.4738187789916992, 0.5375019311904907, 0.5199019312858582, 0.5144913792610168, 0.5157293081283569, 0.5800245404243469, 0.5698928833007812, 0.5703533291816711, 0.5743968486785889, 0.6230813264846802, 0.6214094758033752, 0.6244452595710754, 0.6284806728363037, 0.6663520932197571, 0.6856548190116882, 0.7030802369117737, 0.719476640224456]\n",
      "21\n"
     ]
    },
    {
     "name": "stderr",
     "output_type": "stream",
     "text": [
      "C:\\Users\\arpit\\AppData\\Local\\Temp\\ipykernel_17624\\2934695246.py:1: FutureWarning: Series.__getitem__ treating keys as positions is deprecated. In a future version, integer keys will always be treated as labels (consistent with DataFrame behavior). To access a value by position, use `ser.iloc[pos]`\n",
      "  X = toarray(Data.iloc[0][1])\n"
     ]
    }
   ],
   "source": [
    "X = toarray(Data.iloc[0][1])\n",
    "print(X)\n",
    "print(len(X))"
   ]
  },
  {
   "cell_type": "code",
   "execution_count": 76,
   "metadata": {},
   "outputs": [],
   "source": [
    "def centrealize(base,current):\n",
    "    diff_x = toarray(base[0])[0] - current[0][0]\n",
    "    diff_y = toarray(base[1])[0] - current[1][0]\n",
    "    for i in range(1,len(current[1])):\n",
    "        current[0][i] += diff_x\n",
    "        current[1][i] += diff_y\n",
    "    return current"
   ]
  },
  {
   "cell_type": "code",
   "execution_count": 77,
   "metadata": {},
   "outputs": [
    {
     "name": "stdout",
     "output_type": "stream",
     "text": [
      "                                                   0  \\\n",
      "0  [0.6389526724815369, 0.5815642476081848, 0.530...   \n",
      "\n",
      "                                                   1  \n",
      "0  [0.7939653992652893, 0.7970843315124512, 0.773...  \n",
      "                                                    0  \\\n",
      "0   [0.6389526724815369, 0.5815642476081848, 0.530...   \n",
      "1   [0.6421611905097961, 0.5809921026229858, 0.528...   \n",
      "2   [0.6362246870994568, 0.5805093050003052, 0.528...   \n",
      "3   [0.6350575089454651, 0.5802096724510193, 0.528...   \n",
      "4   [0.6350575089454651, 0.5802096724510193, 0.528...   \n",
      "..                                                ...   \n",
      "58  [0.6478762030601501, 0.577118456363678, 0.5196...   \n",
      "59  [0.6551723480224609, 0.5780110955238342, 0.521...   \n",
      "60  [0.659166693687439, 0.5794556140899658, 0.5226...   \n",
      "61  [0.659166693687439, 0.5794556140899658, 0.5226...   \n",
      "62  [0.6456079483032227, 0.5809589624404907, 0.526...   \n",
      "\n",
      "                                                    1  \n",
      "0   [0.7939653992652893, 0.7970843315124512, 0.773...  \n",
      "1   [0.7949893474578857, 0.7947319149971008, 0.769...  \n",
      "2   [0.7907731533050537, 0.7957355380058289, 0.772...  \n",
      "3   [0.7921234369277954, 0.7944238781929016, 0.771...  \n",
      "4   [0.7921234369277954, 0.7944238781929016, 0.771...  \n",
      "..                                                ...  \n",
      "58  [0.7870500087738037, 0.7944023609161377, 0.769...  \n",
      "59  [0.7918316721916199, 0.7911558747291565, 0.767...  \n",
      "60  [0.7871394157409668, 0.7969599962234497, 0.776...  \n",
      "61  [0.7871394157409668, 0.7969599962234497, 0.776...  \n",
      "62  [0.7775070667266846, 0.7946999073028564, 0.768...  \n",
      "\n",
      "[63 rows x 2 columns]\n"
     ]
    }
   ],
   "source": [
    "n_ent, size_ent = Data.shape\n",
    "base = [Data.iloc[0,1],Data.iloc[0,2]]\n",
    "# print(base)\n",
    "norm = pd.DataFrame(base).T\n",
    "print(norm)\n",
    "# print(norm.shape)\n",
    "# print(type(base))\n",
    "# current = [Data.iloc[1,0],toarray(Data.iloc[1,1]),toarray(Data.iloc[1,2])]\n",
    "# print(current)\n",
    "# print(centrealize(base,current))\n",
    "for i in range(1,n_ent):\n",
    "    current = [toarray(Data.iloc[i,1]),toarray(Data.iloc[i,2])]\n",
    "    cent = centrealize(base, current)\n",
    "    norm.loc[len(norm.index)] = cent\n",
    "    \n",
    "print(norm)"
   ]
  },
  {
   "cell_type": "code",
   "execution_count": 78,
   "metadata": {},
   "outputs": [],
   "source": [
    "norm.to_csv('C:\\Projects\\ISL-to-text\\Centralized_Simulator.csv')"
   ]
  }
 ],
 "metadata": {
  "kernelspec": {
   "display_name": "Python 3",
   "language": "python",
   "name": "python3"
  },
  "language_info": {
   "codemirror_mode": {
    "name": "ipython",
    "version": 3
   },
   "file_extension": ".py",
   "mimetype": "text/x-python",
   "name": "python",
   "nbconvert_exporter": "python",
   "pygments_lexer": "ipython3",
   "version": "3.10.7"
  }
 },
 "nbformat": 4,
 "nbformat_minor": 2
}
