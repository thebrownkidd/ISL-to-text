{
 "cells": [
  {
   "cell_type": "code",
   "execution_count": 2,
   "metadata": {},
   "outputs": [
    {
     "name": "stdout",
     "output_type": "stream",
     "text": [
      "419\n"
     ]
    },
    {
     "name": "stderr",
     "output_type": "stream",
     "text": [
      "C:\\Users\\arpit\\AppData\\Local\\Temp\\ipykernel_20164\\2183363142.py:5: FutureWarning: Series.__getitem__ treating keys as positions is deprecated. In a future version, integer keys will always be treated as labels (consistent with DataFrame behavior). To access a value by position, use `ser.iloc[pos]`\n",
      "  print(len(Data.iloc[0][1]))\n"
     ]
    }
   ],
   "source": [
    "import pandas as pd\n",
    "f = 'C:\\Projects\\ISL-to-text\\Simulater.csv'\n",
    "# d = f.read()\n",
    "Data = pd.read_csv(f)\n",
    "print(len(Data.iloc[0][1]))"
   ]
  },
  {
   "cell_type": "code",
   "execution_count": 3,
   "metadata": {},
   "outputs": [],
   "source": [
    "def toarray(a):\n",
    "    a = str(a)\n",
    "    a = a[1:len(a)-2]\n",
    "    val = []\n",
    "    x=0\n",
    "    while x<len(a):\n",
    "        if(len(val) == 21):\n",
    "            break\n",
    "        temp = \"\"\n",
    "        # print(a[x:])\n",
    "        for y in range(x,len(a)):\n",
    "            if a[y] != \",\":\n",
    "                temp += a[y]\n",
    "            else:\n",
    "                x = y+1\n",
    "                break\n",
    "        if len(temp) != 0:\n",
    "            val.append(float(temp))\n",
    "        x+=1\n",
    "    return val"
   ]
  },
  {
   "cell_type": "code",
   "execution_count": 5,
   "metadata": {},
   "outputs": [
    {
     "name": "stdout",
     "output_type": "stream",
     "text": [
      "[0.6389526724815369, 0.5815642476081848, 0.530685305595398, 0.4999157190322876, 0.4738187789916992, 0.5375019311904907, 0.5199019312858582, 0.5144913792610168, 0.5157293081283569, 0.5800245404243469, 0.5698928833007812, 0.5703533291816711, 0.5743968486785889, 0.6230813264846802, 0.6214094758033752, 0.6244452595710754, 0.6284806728363037, 0.6663520932197571, 0.6856548190116882, 0.7030802369117737, 0.719476640224456]\n",
      "21\n"
     ]
    },
    {
     "name": "stderr",
     "output_type": "stream",
     "text": [
      "C:\\Users\\arpit\\AppData\\Local\\Temp\\ipykernel_10532\\2934695246.py:1: FutureWarning: Series.__getitem__ treating keys as positions is deprecated. In a future version, integer keys will always be treated as labels (consistent with DataFrame behavior). To access a value by position, use `ser.iloc[pos]`\n",
      "  X = toarray(Data.iloc[0][1])\n"
     ]
    }
   ],
   "source": [
    "X = toarray(Data.iloc[0][1])\n",
    "print(X)\n",
    "print(len(X))"
   ]
  },
  {
   "cell_type": "code",
   "execution_count": 12,
   "metadata": {},
   "outputs": [],
   "source": [
    "def centrealize(base,current):\n",
    "    diff_x = toarray(base[0])[0] - current[0][0]\n",
    "    diff_y = toarray(base[1])[0] - current[1][0]\n",
    "    print(diff_x,diff_y)\n",
    "    # print(toarray(base[0])[0],current[0][0], diff_x)\n",
    "    for i in range(1,len(current[1])):\n",
    "        current[0][i] = (diff_x + current[0][i])\n",
    "        current[1][i] = (diff_y + current[1][i])\n",
    "    # print(current)\n",
    "    return current"
   ]
  },
  {
   "cell_type": "code",
   "execution_count": 16,
   "metadata": {},
   "outputs": [
    {
     "name": "stdout",
     "output_type": "stream",
     "text": [
      "['[0.6389526724815369, 0.5815642476081848, 0.530685305595398, 0.4999157190322876, 0.4738187789916992, 0.5375019311904907, 0.5199019312858582, 0.5144913792610168, 0.5157293081283569, 0.5800245404243469, 0.5698928833007812, 0.5703533291816711, 0.5743968486785889, 0.6230813264846802, 0.6214094758033752, 0.6244452595710754, 0.6284806728363037, 0.6663520932197571, 0.6856548190116882, 0.7030802369117737, 0.7194766402244568]', '[0.7939653992652893, 0.7970843315124512, 0.7736612558364868, 0.7386783361434937, 0.6975237727165222, 0.6337127089500427, 0.5652792453765869, 0.5140314102172852, 0.46900200843811035, 0.606149435043335, 0.521255612373352, 0.46617019176483154, 0.41780784726142883, 0.603542685508728, 0.5252804756164551, 0.47546622157096863, 0.43263620138168335, 0.6214573383331299, 0.5700715780258179, 0.5391137599945068, 0.5106421709060669]']\n",
      "                                                    0  \\\n",
      "0   [0.6389526724815369, 0.5815642476081848, 0.530...   \n",
      "1   [0.6389526724815369, 0.5809921026229858, 0.528...   \n",
      "2   [0.6389526724815369, 0.5805093050003052, 0.528...   \n",
      "3   [0.6389526724815369, 0.5802096724510193, 0.528...   \n",
      "4   [0.6389526724815369, 0.5802096724510193, 0.528...   \n",
      "..                                                ...   \n",
      "58  [0.6389526724815369, 0.577118456363678, 0.5196...   \n",
      "59  [0.6389526724815369, 0.5780110955238342, 0.521...   \n",
      "60  [0.6389526724815369, 0.5794556140899658, 0.522...   \n",
      "61  [0.6389526724815369, 0.5794556140899658, 0.522...   \n",
      "62  [0.6389526724815369, 0.5809589624404907, 0.526...   \n",
      "\n",
      "                                                    1  \n",
      "0   [0.7939653992652893, 0.7970843315124512, 0.773...  \n",
      "1   [0.7939653992652893, 0.7947319149971008, 0.769...  \n",
      "2   [0.7939653992652893, 0.7957355380058289, 0.772...  \n",
      "3   [0.7939653992652893, 0.7944238781929016, 0.771...  \n",
      "4   [0.7939653992652893, 0.7944238781929016, 0.771...  \n",
      "..                                                ...  \n",
      "58  [0.7939653992652893, 0.7944023609161377, 0.769...  \n",
      "59  [0.7939653992652893, 0.7911558747291565, 0.767...  \n",
      "60  [0.7939653992652893, 0.7969599962234497, 0.776...  \n",
      "61  [0.7939653992652893, 0.7969599962234497, 0.776...  \n",
      "62  [0.7939653992652893, 0.7946999073028564, 0.768...  \n",
      "\n",
      "[63 rows x 2 columns]\n"
     ]
    }
   ],
   "source": [
    "n_ent, size_ent = Data.shape\n",
    "base = [Data.iloc[0,1],Data.iloc[0,2]]\n",
    "print(base)\n",
    "norm = pd.DataFrame(base).T\n",
    "# print(norm)\n",
    "# print(norm.shape)\n",
    "# print(type(base))\n",
    "# current = [Data.iloc[1,0],toarray(Data.iloc[1,1]),toarray(Data.iloc[1,2])]\n",
    "# print(current)\n",
    "# print(centrealize(base,current))\n",
    "for i in range(1,n_ent):\n",
    "    cent_x = []\n",
    "    cent_y = []\n",
    "    current = [toarray(Data.iloc[i,1]),toarray(Data.iloc[i,2])]\n",
    "    diff_x = toarray(Data.iloc[0,1])[0] - toarray(Data.iloc[i,1])[0]\n",
    "    diff_Y = toarray(Data.iloc[0,2])[0] - toarray(Data.iloc[i,2])[0]\n",
    "    for j in range(21):\n",
    "        cent_x.append(toarray(Data.iloc[i,1])[j] + diff_x)\n",
    "        cent_y.append(toarray(Data.iloc[i,2])[j] + diff_Y)\n",
    "    cent_xy = [cent_x,cent_y]\n",
    "    norm.loc[len(norm.index)] = cent_xy\n",
    "    \n",
    "print(norm)"
   ]
  },
  {
   "cell_type": "code",
   "execution_count": 18,
   "metadata": {},
   "outputs": [],
   "source": [
    "norm.to_csv('C:\\Projects\\ISL-to-text\\Centralized_Simulator.csv')"
   ]
  },
  {
   "cell_type": "code",
   "execution_count": 10,
   "metadata": {},
   "outputs": [
    {
     "name": "stdout",
     "output_type": "stream",
     "text": [
      "[0.6389526724815369, 0.5815642476081848, 0.530685305595398, 0.4999157190322876, 0.4738187789916992, 0.5375019311904907, 0.5199019312858582, 0.5144913792610168, 0.5157293081283569, 0.5800245404243469, 0.5698928833007812, 0.5703533291816711, 0.5743968486785889, 0.6230813264846802, 0.6214094758033752, 0.6244452595710754, 0.6284806728363037, 0.6663520932197571, 0.6856548190116882, 0.7030802369117737, 0.7194766402244568]\n",
      "0.6389526724815369\n"
     ]
    }
   ],
   "source": [
    "diff = toarray(Data.iloc[0,1])[0] - toarray(Data.iloc[1,1])[0]\n",
    "print(Data.iloc[0,1])\n",
    "cent = toarray(Data.iloc[1,1])[0] + diff\n",
    "print(cent)\n",
    "#  For some reason this works"
   ]
  },
  {
   "cell_type": "code",
   "execution_count": 13,
   "metadata": {},
   "outputs": [
    {
     "name": "stdout",
     "output_type": "stream",
     "text": [
      "-0.0032085180282592773 -0.0010239481925964355\n",
      "[[0.6421611905097961, 0.5809921026229858, 0.5285121202468872, 0.4960222542285919, 0.4690079987049103, 0.5290824770927429, 0.507064700126648, 0.49780911207199097, 0.4951939880847931, 0.5716745257377625, 0.5616896152496338, 0.5614192485809326, 0.5654464364051819, 0.6149504780769348, 0.615240752696991, 0.6173862218856812, 0.6221489906311035, 0.6588515043258667, 0.6782037615776062, 0.6950420141220093, 0.7124156951904207], [0.7949893474578857, 0.7947319149971008, 0.7696446776390076, 0.732632577419281, 0.692950963973999, 0.6180465817451477, 0.5462522506713867, 0.4926756024360657, 0.4471251368522644, 0.5913974046707153, 0.5124755501747131, 0.4581317901611328, 0.412181556224823, 0.5917794704437256, 0.5178506374359131, 0.4707385301589966, 0.42956632375717163, 0.614000678062439, 0.565580427646637, 0.5361915826797485, 0.5075375437736506]]\n"
     ]
    },
    {
     "name": "stderr",
     "output_type": "stream",
     "text": [
      "C:\\Users\\arpit\\AppData\\Local\\Temp\\ipykernel_20164\\2936282901.py:2: FutureWarning: Series.__getitem__ treating keys as positions is deprecated. In a future version, integer keys will always be treated as labels (consistent with DataFrame behavior). To access a value by position, use `ser.iloc[pos]`\n",
      "  diff_x = toarray(base[0])[0] - current[0][0]\n",
      "C:\\Users\\arpit\\AppData\\Local\\Temp\\ipykernel_20164\\2936282901.py:3: FutureWarning: Series.__getitem__ treating keys as positions is deprecated. In a future version, integer keys will always be treated as labels (consistent with DataFrame behavior). To access a value by position, use `ser.iloc[pos]`\n",
      "  diff_y = toarray(base[1])[0] - current[1][0]\n"
     ]
    }
   ],
   "source": [
    "print(centrealize(base=Data.iloc[0,1:],current=[toarray(Data.iloc[1,1]),toarray(Data.iloc[1,2])]))"
   ]
  }
 ],
 "metadata": {
  "kernelspec": {
   "display_name": "Python 3",
   "language": "python",
   "name": "python3"
  },
  "language_info": {
   "codemirror_mode": {
    "name": "ipython",
    "version": 3
   },
   "file_extension": ".py",
   "mimetype": "text/x-python",
   "name": "python",
   "nbconvert_exporter": "python",
   "pygments_lexer": "ipython3",
   "version": "3.10.7"
  }
 },
 "nbformat": 4,
 "nbformat_minor": 2
}
