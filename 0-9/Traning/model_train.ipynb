{
 "cells": [
  {
   "cell_type": "code",
   "execution_count": 2,
   "metadata": {},
   "outputs": [],
   "source": [
    "import numpy as np\n",
    "import pandas as pd\n",
    "import tensorflow as tf"
   ]
  },
  {
   "cell_type": "code",
   "execution_count": 3,
   "metadata": {},
   "outputs": [],
   "source": [
    "def toarray(a):\n",
    "    a = a[1:len(a)-2]\n",
    "    val = []\n",
    "    x=0\n",
    "    while x<len(a):\n",
    "        if(len(val) == 21):\n",
    "            break\n",
    "        temp = \"\"\n",
    "        # print(a[x:])\n",
    "        for y in range(x,len(a)):\n",
    "            if a[y] != \",\":\n",
    "                temp += a[y]\n",
    "            else:\n",
    "                x = y+1\n",
    "                break\n",
    "        if len(temp) != 0:\n",
    "            val.append(float(temp))\n",
    "        x+=1\n",
    "    return val\n"
   ]
  },
  {
   "cell_type": "code",
   "execution_count": 4,
   "metadata": {},
   "outputs": [],
   "source": [
    "def one_hot(i):\n",
    "    ret = [0]*9\n",
    "    if i <= 5:\n",
    "        ret[i] = 1\n",
    "    else:\n",
    "        ret[i-1] = 1\n",
    "    return ret"
   ]
  },
  {
   "cell_type": "code",
   "execution_count": 5,
   "metadata": {},
   "outputs": [],
   "source": [
    "def soft_one_hot(Y):\n",
    "    ret = []\n",
    "    for x in Y:\n",
    "        temp = [0]*9\n",
    "        # x = pd.DataFrame(x)\n",
    "        # print(temp.index(max(x)))\n",
    "        temp[np.argmax(x)] = 1\n",
    "        ret.append(temp)\n",
    "    return ret"
   ]
  },
  {
   "cell_type": "code",
   "execution_count": 6,
   "metadata": {},
   "outputs": [
    {
     "name": "stdout",
     "output_type": "stream",
     "text": [
      "              0              1              2              3              4   \\\n",
      "0  361083.149731  317498.863369  273459.040493  244493.850589  223597.630560   \n",
      "1  531608.187109  510147.825897  474924.765289  445336.312056  432731.733561   \n",
      "2  550486.570179  522387.824744  485663.380831  460444.020569  445545.249790   \n",
      "3  573367.154390  559856.294006  529867.371500  502166.531205  484695.569932   \n",
      "4  548464.649558  525231.272876  496710.779846  468791.733980  451788.924456   \n",
      "5  568935.537398  539581.743211  493221.247464  456142.824590  431973.644376   \n",
      "6  470715.765774  445261.426836  418968.897432  400899.662554  389417.063236   \n",
      "7  536450.241536  499291.011930  449384.009808  411924.679637  386107.206225   \n",
      "8  390189.734548  407372.370988  424441.089332  447723.319530  471593.617439   \n",
      "\n",
      "              5              6              7              8              9   \\\n",
      "0  247733.742923  207267.621428  204740.518868  212912.587672  255401.050806   \n",
      "1  414615.184784  366585.155368  335104.115456  307717.505455  417590.948254   \n",
      "2  417702.429682  369749.699086  340062.937826  314787.290722  423533.133447   \n",
      "3  454386.827826  407880.967557  378498.474002  350833.173245  450726.868719   \n",
      "4  430598.817736  383591.079563  356004.096329  331795.706779  424903.144419   \n",
      "5  437847.749203  386243.008763  356604.598701  331239.237159  436688.939571   \n",
      "6  355333.999306  308502.369285  296802.231908  303621.469289  367920.220494   \n",
      "7  400327.910155  346754.040420  315845.801324  287168.028384  409645.045638   \n",
      "8  364654.039264  382611.431271  404375.957847  420689.432114  339938.322067   \n",
      "\n",
      "   ...             11             12             13             14  \\\n",
      "0  ...  197539.624035  206908.712655  268614.552259  210743.942767   \n",
      "1  ...  452598.660260  466509.505033  431435.361862  443626.010329   \n",
      "2  ...  328513.991594  300338.881612  442994.362801  423804.366082   \n",
      "3  ...  357380.315900  326736.717463  462216.058493  420130.854845   \n",
      "4  ...  329808.839649  301061.380267  435052.587241  381049.814224   \n",
      "5  ...  339084.231555  309038.890630  450677.542031  394848.534524   \n",
      "6  ...  406278.931379  420831.067055  391613.884240  409391.942292   \n",
      "7  ...  318885.199547  288668.192267  431782.101154  417362.727404   \n",
      "8  ...  387710.182399  408572.342962  326346.376508  336128.689915   \n",
      "\n",
      "              15             16             17             18             19  \\\n",
      "0  200342.711091  205168.153614  285283.834815  243395.562440  225093.376637   \n",
      "1  471255.733728  482382.907569  451234.050781  460668.142408  481899.584323   \n",
      "2  452106.330097  475058.355600  469768.757135  456759.160876  476562.712371   \n",
      "3  392313.027501  371615.879208  484536.680251  463774.442166  470289.181381   \n",
      "4  343329.144299  312945.103526  457288.841784  424499.397963  401074.765831   \n",
      "5  357203.600615  325734.356523  476153.694808  446380.053461  424416.076958   \n",
      "6  432157.487184  438693.850845  418723.400682  436037.880242  453693.234980   \n",
      "7  446162.680864  469099.876195  460547.917604  454928.106844  471210.627496   \n",
      "8  363413.573951  385744.837075  320697.167665  304917.351335  318416.230619   \n",
      "\n",
      "              20  \n",
      "0  219228.511572  \n",
      "1  490151.079744  \n",
      "2  493686.776340  \n",
      "3  480876.750290  \n",
      "4  380281.173766  \n",
      "5  403857.887179  \n",
      "6  457031.709701  \n",
      "7  485410.317242  \n",
      "8  336398.537159  \n",
      "\n",
      "[9 rows x 21 columns]\n",
      "\n",
      "\n",
      "\n",
      "\n",
      "\n",
      "   0  1  2  3  4  5  6  7  8\n",
      "0  1  0  0  0  0  0  0  0  0\n",
      "1  0  1  0  0  0  0  0  0  0\n",
      "2  0  0  1  0  0  0  0  0  0\n",
      "3  0  0  0  1  0  0  0  0  0\n",
      "4  0  0  0  0  1  0  0  0  0\n",
      "5  0  0  0  0  0  1  0  0  0\n",
      "6  0  0  0  0  0  0  1  0  0\n",
      "7  0  0  0  0  0  0  0  1  0\n",
      "8  0  0  0  0  0  0  0  0  1\n"
     ]
    }
   ],
   "source": [
    "import os\n",
    "X = []\n",
    "Y = []\n",
    "dir = 'C:/Projects/ISL-to-text/0-9/'\n",
    "for x in os.listdir(dir):\n",
    "    f = open(dir+x+\"/asl\"+x+\".jpgposencoded.txt\",'r')\n",
    "    a = f.readline()\n",
    "    X.append(toarray(a))\n",
    "    Y.append(one_hot(int(x)))\n",
    "X = pd.DataFrame(X)\n",
    "Y = pd.DataFrame(Y)\n",
    "print(X)\n",
    "print(\"\\n\\n\\n\\n\")\n",
    "print(Y)"
   ]
  },
  {
   "cell_type": "code",
   "execution_count": 1,
   "metadata": {},
   "outputs": [
    {
     "ename": "NameError",
     "evalue": "name 'tf' is not defined",
     "output_type": "error",
     "traceback": [
      "\u001b[1;31m---------------------------------------------------------------------------\u001b[0m",
      "\u001b[1;31mNameError\u001b[0m                                 Traceback (most recent call last)",
      "Cell \u001b[1;32mIn[1], line 1\u001b[0m\n\u001b[1;32m----> 1\u001b[0m model \u001b[38;5;241m=\u001b[39m \u001b[43mtf\u001b[49m\u001b[38;5;241m.\u001b[39mkeras\u001b[38;5;241m.\u001b[39mSequential([tf\u001b[38;5;241m.\u001b[39mkeras\u001b[38;5;241m.\u001b[39mlayers\u001b[38;5;241m.\u001b[39mDense(units \u001b[38;5;241m=\u001b[39m \u001b[38;5;241m21\u001b[39m, activation \u001b[38;5;241m=\u001b[39m \u001b[38;5;124m'\u001b[39m\u001b[38;5;124mtanh\u001b[39m\u001b[38;5;124m'\u001b[39m,input_shape \u001b[38;5;241m=\u001b[39m [\u001b[38;5;241m21\u001b[39m]),\n\u001b[0;32m      2\u001b[0m                              tf\u001b[38;5;241m.\u001b[39mkeras\u001b[38;5;241m.\u001b[39mlayers\u001b[38;5;241m.\u001b[39mAttention(use_scale\u001b[38;5;241m=\u001b[39m\u001b[38;5;28;01mFalse\u001b[39;00m, score_mode\u001b[38;5;241m=\u001b[39m\u001b[38;5;124m'\u001b[39m\u001b[38;5;124mdot\u001b[39m\u001b[38;5;124m'\u001b[39m,dropout\u001b[38;5;241m=\u001b[39m\u001b[38;5;241m0.0\u001b[39m, seed\u001b[38;5;241m=\u001b[39m\u001b[38;5;28;01mNone\u001b[39;00m),\n\u001b[0;32m      3\u001b[0m                              tf\u001b[38;5;241m.\u001b[39mkeras\u001b[38;5;241m.\u001b[39mlayers\u001b[38;5;241m.\u001b[39mDense(units \u001b[38;5;241m=\u001b[39m \u001b[38;5;241m300\u001b[39m,activation \u001b[38;5;241m=\u001b[39m \u001b[38;5;124m'\u001b[39m\u001b[38;5;124mtanh\u001b[39m\u001b[38;5;124m'\u001b[39m),\n\u001b[0;32m      4\u001b[0m                              tf\u001b[38;5;241m.\u001b[39mkeras\u001b[38;5;241m.\u001b[39mlayers\u001b[38;5;241m.\u001b[39mDense(units \u001b[38;5;241m=\u001b[39m \u001b[38;5;241m240\u001b[39m,activation \u001b[38;5;241m=\u001b[39m \u001b[38;5;124m'\u001b[39m\u001b[38;5;124mtanh\u001b[39m\u001b[38;5;124m'\u001b[39m),\n\u001b[0;32m      5\u001b[0m                              tf\u001b[38;5;241m.\u001b[39mkeras\u001b[38;5;241m.\u001b[39mlayers\u001b[38;5;241m.\u001b[39mDense(units \u001b[38;5;241m=\u001b[39m \u001b[38;5;241m160\u001b[39m, activation \u001b[38;5;241m=\u001b[39m \u001b[38;5;124m'\u001b[39m\u001b[38;5;124mtanh\u001b[39m\u001b[38;5;124m'\u001b[39m),\n\u001b[0;32m      6\u001b[0m                              tf\u001b[38;5;241m.\u001b[39mkeras\u001b[38;5;241m.\u001b[39mlayers\u001b[38;5;241m.\u001b[39mDense(units\u001b[38;5;241m=\u001b[39m \u001b[38;5;241m120\u001b[39m, activation \u001b[38;5;241m=\u001b[39m \u001b[38;5;124m'\u001b[39m\u001b[38;5;124mtanh\u001b[39m\u001b[38;5;124m'\u001b[39m),\n\u001b[0;32m      7\u001b[0m                              tf\u001b[38;5;241m.\u001b[39mkeras\u001b[38;5;241m.\u001b[39mlayers\u001b[38;5;241m.\u001b[39mDense(units \u001b[38;5;241m=\u001b[39m \u001b[38;5;241m80\u001b[39m, activation\u001b[38;5;241m=\u001b[39m \u001b[38;5;124m'\u001b[39m\u001b[38;5;124mtanh\u001b[39m\u001b[38;5;124m'\u001b[39m),\n\u001b[0;32m      8\u001b[0m                             \u001b[38;5;66;03m#  tf.keras.layers.Dense(units = 50, activation='tanh'),\u001b[39;00m\n\u001b[0;32m      9\u001b[0m                             \u001b[38;5;66;03m#  tf.keras.layers.Dense(units= 40, activation= 'tanh'),\u001b[39;00m\n\u001b[0;32m     10\u001b[0m                             \u001b[38;5;66;03m#  tf.keras.layers.Dense(units = 40, activation='tanh'),\u001b[39;00m\n\u001b[0;32m     11\u001b[0m                              tf\u001b[38;5;241m.\u001b[39mkeras\u001b[38;5;241m.\u001b[39mlayers\u001b[38;5;241m.\u001b[39mDense(units \u001b[38;5;241m=\u001b[39m \u001b[38;5;241m9\u001b[39m,activation \u001b[38;5;241m=\u001b[39m \u001b[38;5;124m'\u001b[39m\u001b[38;5;124mtanh\u001b[39m\u001b[38;5;124m'\u001b[39m),\n\u001b[0;32m     12\u001b[0m                              tf\u001b[38;5;241m.\u001b[39mkeras\u001b[38;5;241m.\u001b[39mlayers\u001b[38;5;241m.\u001b[39mDense(units \u001b[38;5;241m=\u001b[39m \u001b[38;5;241m9\u001b[39m,activation\u001b[38;5;241m=\u001b[39m \u001b[38;5;124m'\u001b[39m\u001b[38;5;124msoftmax\u001b[39m\u001b[38;5;124m'\u001b[39m)])\n\u001b[0;32m     13\u001b[0m \u001b[38;5;66;03m# model.summary()\u001b[39;00m\n\u001b[0;32m     14\u001b[0m model\u001b[38;5;241m.\u001b[39mcompile(optimizer\u001b[38;5;241m=\u001b[39m\u001b[38;5;124m'\u001b[39m\u001b[38;5;124madam\u001b[39m\u001b[38;5;124m'\u001b[39m,loss\u001b[38;5;241m=\u001b[39m\u001b[38;5;124m'\u001b[39m\u001b[38;5;124mmae\u001b[39m\u001b[38;5;124m'\u001b[39m)\n",
      "\u001b[1;31mNameError\u001b[0m: name 'tf' is not defined"
     ]
    }
   ],
   "source": [
    "model = tf.keras.Sequential([tf.keras.layers.Dense(units = 21, activation = 'tanh',input_shape = [21]),\n",
    "                             tf.keras.layers.Dense(units = 300,activation = 'tanh'),\n",
    "                             tf.keras.layers.Dense(units = 240,activation = 'tanh'),\n",
    "                             tf.keras.layers.Dense(units = 160, activation = 'tanh'),\n",
    "                             tf.keras.layers.Dense(units= 120, activation = 'tanh'),\n",
    "                             tf.keras.layers.Dense(units = 80, activation= 'tanh'),\n",
    "                            #  tf.keras.layers.Dense(units = 50, activation='tanh'),\n",
    "                            #  tf.keras.layers.Dense(units= 40, activation= 'tanh'),\n",
    "                            #  tf.keras.layers.Dense(units = 40, activation='tanh'),\n",
    "                             tf.keras.layers.Dense(units = 9,activation = 'tanh'),\n",
    "                             tf.keras.layers.Dense(units = 9,activation= 'softmax')])\n",
    "# model.summary()\n",
    "model.compile(optimizer='adam',loss='mae')\n",
    "losses = model.fit(X,Y,validation_data=(X,Y),batch_size = 9,epochs = 9)"
   ]
  },
  {
   "cell_type": "code",
   "execution_count": 344,
   "metadata": {},
   "outputs": [
    {
     "name": "stdout",
     "output_type": "stream",
     "text": [
      "\u001b[1m1/1\u001b[0m \u001b[32m━━━━━━━━━━━━━━━━━━━━\u001b[0m\u001b[37m\u001b[0m \u001b[1m0s\u001b[0m 76ms/step\n",
      "          0         1         2         3         4         5         6  \\\n",
      "0  0.330439  0.080917  0.132581  0.052387  0.052642  0.020454  0.202584   \n",
      "1  0.094510  0.226774  0.065997  0.031235  0.075001  0.067645  0.159195   \n",
      "2  0.208183  0.044944  0.372480  0.042816  0.074995  0.015448  0.102443   \n",
      "3  0.034730  0.059203  0.084843  0.405108  0.136679  0.114906  0.063526   \n",
      "4  0.034730  0.059203  0.084843  0.405108  0.136679  0.114906  0.063526   \n",
      "5  0.035001  0.052749  0.027772  0.089391  0.084674  0.538644  0.018214   \n",
      "6  0.330439  0.080917  0.132581  0.052387  0.052642  0.020454  0.202584   \n",
      "7  0.102119  0.063423  0.109188  0.034229  0.064605  0.089770  0.052736   \n",
      "8  0.034730  0.059203  0.084843  0.405108  0.136679  0.114906  0.063526   \n",
      "\n",
      "          7         8  \n",
      "0  0.070313  0.057683  \n",
      "1  0.213459  0.066185  \n",
      "2  0.093619  0.045073  \n",
      "3  0.023855  0.077149  \n",
      "4  0.023855  0.077149  \n",
      "5  0.088551  0.065003  \n",
      "6  0.070313  0.057683  \n",
      "7  0.370132  0.113799  \n",
      "8  0.023855  0.077149  \n",
      "   0  1  2  3  4  5  6  7  8\n",
      "0  1  0  0  0  0  0  0  0  0\n",
      "1  0  1  0  0  0  0  0  0  0\n",
      "2  0  0  1  0  0  0  0  0  0\n",
      "3  0  0  0  1  0  0  0  0  0\n",
      "4  0  0  0  1  0  0  0  0  0\n",
      "5  0  0  0  0  0  1  0  0  0\n",
      "6  1  0  0  0  0  0  0  0  0\n",
      "7  0  0  0  0  0  0  0  1  0\n",
      "8  0  0  0  1  0  0  0  0  0\n"
     ]
    }
   ],
   "source": [
    "res = model.predict(X.iloc[:,:])\n",
    "print(pd.DataFrame(res))\n",
    "print(pd.DataFrame(soft_one_hot(res)))"
   ]
  },
  {
   "cell_type": "code",
   "execution_count": 345,
   "metadata": {},
   "outputs": [],
   "source": [
    "model.save(\"C:/Projects/ISL-to-text/sign_to_sigm_21-300-240-160-120-80-9-9.keras\")"
   ]
  }
 ],
 "metadata": {
  "kernelspec": {
   "display_name": "Python 3",
   "language": "python",
   "name": "python3"
  },
  "language_info": {
   "codemirror_mode": {
    "name": "ipython",
    "version": 3
   },
   "file_extension": ".py",
   "mimetype": "text/x-python",
   "name": "python",
   "nbconvert_exporter": "python",
   "pygments_lexer": "ipython3",
   "version": "3.10.7"
  }
 },
 "nbformat": 4,
 "nbformat_minor": 2
}
